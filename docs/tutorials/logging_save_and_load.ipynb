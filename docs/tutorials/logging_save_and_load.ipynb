{
 "cells": [
  {
   "metadata": {},
   "cell_type": "markdown",
   "source": [
    "# Logging, Saving, and Loading Models in gwrefpy\n",
    "\n",
    "This examples goes through how to log, save, and load models in gwrefpy.\n",
    "\n",
    "We will cover:\n",
    "1. Using the built-in logging functionality to track and handle log messages.\n",
    "2. Saving models to a `.gwref` file.\n",
    "3. Loading models from a `.gwref` file.\n",
    "\n",
    "We start by importing the necessary libraries."
   ],
   "id": "63834bf9a3c2f463"
  },
  {
   "cell_type": "code",
   "id": "initial_id",
   "metadata": {
    "collapsed": true
   },
   "source": [
    "import gwrefpy as gr\n",
    "import numpy as np\n",
    "import pandas as pd\n"
   ],
   "outputs": [],
   "execution_count": null
  },
  {
   "metadata": {},
   "cell_type": "markdown",
   "source": [
    "## 1. Logging\n",
    "gwrefpy uses Python's built-in logging module to provide logging functionality. You can configure the logging level and format as needed. By default, gwrefpy logs messages to the console.\n",
    "\n",
    "There are several logging levels available:\n",
    "- `DEBUG`: Detailed information, typically of interest only when diagnosing problems.\n",
    "- `INFO`: Confirmation that things are working as expected. This is the default logging level.\n",
    "- `WARNING`: An indication that something unexpected happened, or indicative of some problem in the near future\n",
    "- `ERROR`: Due to a more serious problem, the software has not been able to perform some function. Typically, these are issues will also raise exceptions.\n",
    "\n",
    "You can set the logging level by using the `set_logging_level` function."
   ],
   "id": "219db7d3e231ae45"
  },
  {
   "metadata": {},
   "cell_type": "code",
   "source": "gr.set_log_level(\"DEBUG\")  # Set logging level to INFO",
   "id": "aa02e220068d33c5",
   "outputs": [],
   "execution_count": null
  },
  {
   "metadata": {},
   "cell_type": "markdown",
   "source": "We can now create some timeseries data and see the logging in action.",
   "id": "4587191edf2cc703"
  },
  {
   "metadata": {},
   "cell_type": "code",
   "source": [
    "# Create some example data\n",
    "n_days = 100\n",
    "dates = pd.date_range(\"2020-01-01\", periods=n_days, freq=\"D\")\n",
    "\n",
    "# Observed and reference values with some noise\n",
    "values_obs1 = (\n",
    "    25.75\n",
    "    + 0.7 * np.sin(np.linspace(0, 4 * np.pi, n_days))\n",
    "    + np.random.normal(0, 0.1, n_days)\n",
    ")\n",
    "values_ref1 = (\n",
    "    18.75\n",
    "    + 0.3 * np.sin(np.linspace(0, 4 * np.pi, n_days))\n",
    "    + np.random.normal(0, 0.05, n_days)\n",
    ")\n",
    "\n",
    "# Creat the observed and reference wells\n",
    "obs1 = gr.Well(name=\"Obs. well\", is_reference=False)\n",
    "obs1.add_timeseries(pd.Series(values_obs1, index=dates))\n",
    "ref1 = gr.Well(name=\"Ref. well\", is_reference=True)\n",
    "ref1.add_timeseries(pd.Series(values_ref1, index=dates))\n",
    "\n",
    "# Create the model and add the wells\n",
    "model1 = gr.Model(name=\"Logging Example Model\")\n",
    "model1.add_well(obs1)\n",
    "model1.add_well(ref1)\n",
    "\n",
    "# Fit the model\n",
    "model1.fit(\n",
    "    obs1,\n",
    "    ref1,\n",
    "    offset=\"0D\",\n",
    "    tmin=dates[0],\n",
    "    tmax=dates[-21],\n",
    ")"
   ],
   "id": "60ced170173eb3a6",
   "outputs": [],
   "execution_count": null
  },
  {
   "metadata": {},
   "cell_type": "markdown",
   "source": "We can see the log messages in the console, showing the progress of the program. We can also change the logging level to `DEBUG` to print more information or we can enable the logging to a file and set that logging level to `DEBUG` to get more detailed information about the program's execution.",
   "id": "c3292aca4a3b4cf5"
  },
  {
   "metadata": {},
   "cell_type": "markdown",
   "source": "",
   "id": "4fbd17ae354c8f1"
  },
  {
   "metadata": {},
   "cell_type": "code",
   "source": [
    "# Set logging level to INFO (default)\n",
    "gr.set_log_level(\"INFO\")\n",
    "# Enable logging to a file with DEBUG level\n",
    "gr.enable_file_logging(\"gwrefpy_debug.log\", loglevel=\"DEBUG\")"
   ],
   "id": "486c66e31c155424",
   "outputs": [],
   "execution_count": null
  },
  {
   "metadata": {},
   "cell_type": "markdown",
   "source": "Let's create a new model and fit it again to see the detailed logging in the file.",
   "id": "4dff9fcb0ac4af6b"
  },
  {
   "metadata": {},
   "cell_type": "code",
   "source": [
    "# Observed and reference values with some noise\n",
    "values_obs2 = (\n",
    "    25.75\n",
    "    + 0.7 * np.sin(np.linspace(0, 4 * np.pi, n_days))\n",
    "    + np.random.normal(0, 0.1, n_days)\n",
    ")\n",
    "values_ref2 = (\n",
    "    18.75\n",
    "    + 0.3 * np.sin(np.linspace(0, 4 * np.pi, n_days))\n",
    "    + np.random.normal(0, 0.05, n_days)\n",
    ")\n",
    "\n",
    "# Creat the observed and reference wells\n",
    "obs2 = gr.Well(name=\"Obs. well 1\", is_reference=False)\n",
    "obs2.add_timeseries(pd.Series(values_obs2, index=dates))\n",
    "ref2 = gr.Well(name=\"Ref. well 1\", is_reference=True)\n",
    "ref2.add_timeseries(pd.Series(values_ref2, index=dates))\n",
    "\n",
    "# Create the model and add the wells\n",
    "model2 = gr.Model(name=\"Logging Example Model DEBUG\")\n",
    "model2.add_well(obs2)\n",
    "model2.add_well(ref2)\n",
    "\n",
    "# Fit the model\n",
    "model2.fit(\n",
    "    obs2,\n",
    "    ref2,\n",
    "    offset=\"0D\",\n",
    "    tmin=dates[0],\n",
    "    tmax=dates[-21],\n",
    ")"
   ],
   "id": "da09ea6802063571",
   "outputs": [],
   "execution_count": null
  },
  {
   "metadata": {},
   "cell_type": "markdown",
   "source": "As you can see, not as much will be printed to the console. And now we can check the `gwrefpy_debug.log` file for detailed logging information.",
   "id": "6cae0c11638da6b5"
  },
  {
   "metadata": {},
   "cell_type": "code",
   "source": [
    "# Print the log file content\n",
    "with open(\"gwrefpy_debug.log\", \"r\") as log_file:\n",
    "    log_content = log_file.read()\n",
    "print(log_content)"
   ],
   "id": "31fc24680e2afefc",
   "outputs": [],
   "execution_count": null
  },
  {
   "metadata": {},
   "cell_type": "markdown",
   "source": [
    "As you can see, the log file contains detailed information about the program's execution, module, time, and log level, including messages that are not necessarily printed to the console.\n",
    "\n",
    "For more information on logging, please refer to the [logging documentation](https://docs.python.org/3/library/logging.html) and the API for gwrefpy's logging functions."
   ],
   "id": "eb5c7dd2c1f4f563"
  },
  {
   "metadata": {},
   "cell_type": "markdown",
   "source": [
    "## 2. Saving Models\n",
    "You can save a model to a `.gwref` file using the `save_project` function of the `Model` class. This function saves the model, including all wells and fits, to a specified file."
   ],
   "id": "a5da9014d3fff93e"
  },
  {
   "metadata": {},
   "cell_type": "code",
   "source": [
    "# Save the model to a .gwref file\n",
    "model1.save_project(\"logging_example_model.gwref\")\n",
    "model2.save_project(\"logging_example_model_debug.gwref\")"
   ],
   "id": "a341c7302164187a",
   "outputs": [],
   "execution_count": null
  },
  {
   "metadata": {},
   "cell_type": "markdown",
   "source": "You can now find the `logging_example_model.gwref` and `logging_example_model_debug.gwref` files in your working directory. The files are not automatically overwritten, so if you run the save command again, it will create a new file with a different name or set the `overwrite` variable to `True`.",
   "id": "c9c43c0941356c77"
  },
  {
   "metadata": {},
   "cell_type": "code",
   "source": [
    "# Save the model to a .gwref file, allowing overwriting\n",
    "model1.save_project(\"logging_example_model.gwref\") # This will not overwrite the existing file and a warning will be logged\n",
    "model1.save_project(\"logging_example_model.gwref\", overwrite=True) # This will overwrite the existing file"
   ],
   "id": "be76fa985a7db029",
   "outputs": [],
   "execution_count": null
  },
  {
   "metadata": {},
   "cell_type": "markdown",
   "source": [
    "## 3. Loading Models\n",
    "You can load a model from a `.gwref` file using the `open_project` function from the `Model` class. This function reads the model from the specified file and saves it to the `Model` object.\n",
    "\n",
    "There are two ways to load a model:\n",
    "1. Create a new `Model` object and use the `open_project` method.\n",
    "2. Specify the `.gwref` file directly when creating a new `Model` object."
   ],
   "id": "1009d0db6ff918d2"
  },
  {
   "metadata": {
    "ExecuteTime": {
     "end_time": "2025-09-11T18:20:55.532721Z",
     "start_time": "2025-09-11T18:20:55.240818Z"
    }
   },
   "cell_type": "code",
   "source": [
    "# Method 1: Create a new Model object and load the project\n",
    "loaded_model1 = gr.Model(name=\"Name will be overwritten\")\n",
    "loaded_model1.open_project(\"logging_example_model.gwref\")\n",
    "\n",
    "# Method 2: Directly load the project into a new Model object\n",
    "loaded_model2 = gr.Model(\"logging_example_model_debug.gwref\")"
   ],
   "id": "d54d88d874c3b5f8",
   "outputs": [
    {
     "name": "stdout",
     "output_type": "stream",
     "text": [
      "The file logging_example_model.gwref does not exist.\n"
     ]
    },
    {
     "ename": "FileNotFoundError",
     "evalue": "The file logging_example_model.gwref does not exist.",
     "output_type": "error",
     "traceback": [
      "\u001B[31m---------------------------------------------------------------------------\u001B[39m",
      "\u001B[31mFileNotFoundError\u001B[39m                         Traceback (most recent call last)",
      "\u001B[36mCell\u001B[39m\u001B[36m \u001B[39m\u001B[32mIn[12]\u001B[39m\u001B[32m, line 3\u001B[39m\n\u001B[32m      1\u001B[39m \u001B[38;5;66;03m# Method 1: Create a new Model object and load the project\u001B[39;00m\n\u001B[32m      2\u001B[39m loaded_model1 = gr.Model(name=\u001B[33m\"\u001B[39m\u001B[33mName will be overwritten\u001B[39m\u001B[33m\"\u001B[39m)\n\u001B[32m----> \u001B[39m\u001B[32m3\u001B[39m \u001B[43mloaded_model1\u001B[49m\u001B[43m.\u001B[49m\u001B[43mopen_project\u001B[49m\u001B[43m(\u001B[49m\u001B[33;43m\"\u001B[39;49m\u001B[33;43mlogging_example_model.gwref\u001B[39;49m\u001B[33;43m\"\u001B[39;49m\u001B[43m)\u001B[49m\n\u001B[32m      5\u001B[39m \u001B[38;5;66;03m# Method 2: Directly load the project into a new Model object\u001B[39;00m\n\u001B[32m      6\u001B[39m loaded_model2 = gr.Model(\u001B[33m\"\u001B[39m\u001B[33mlogging_example_model_debug.gwref\u001B[39m\u001B[33m\"\u001B[39m)\n",
      "\u001B[36mFile \u001B[39m\u001B[32m~\\PycharmProjects\\gwrefpy\\src\\gwrefpy\\model.py:846\u001B[39m, in \u001B[36mModel.open_project\u001B[39m\u001B[34m(self, filepath)\u001B[39m\n\u001B[32m    832\u001B[39m \u001B[38;5;250m\u001B[39m\u001B[33;03m\"\"\"\u001B[39;00m\n\u001B[32m    833\u001B[39m \u001B[33;03mLoad the model from a file.\u001B[39;00m\n\u001B[32m    834\u001B[39m \n\u001B[32m   (...)\u001B[39m\u001B[32m    843\u001B[39m \u001B[33;03m    This method loads the model from a file.\u001B[39;00m\n\u001B[32m    844\u001B[39m \u001B[33;03m\"\"\"\u001B[39;00m\n\u001B[32m    845\u001B[39m \u001B[38;5;66;03m# Placeholder for load logic\u001B[39;00m\n\u001B[32m--> \u001B[39m\u001B[32m846\u001B[39m data = \u001B[43mload\u001B[49m\u001B[43m(\u001B[49m\u001B[43mfilepath\u001B[49m\u001B[43m)\u001B[49m\n\u001B[32m    847\u001B[39m \u001B[38;5;28mself\u001B[39m.unpack_dict(data)\n\u001B[32m    848\u001B[39m logger.info(\u001B[33mf\u001B[39m\u001B[33m\"\u001B[39m\u001B[33mModel \u001B[39m\u001B[33m'\u001B[39m\u001B[38;5;132;01m{\u001B[39;00m\u001B[38;5;28mself\u001B[39m.name\u001B[38;5;132;01m}\u001B[39;00m\u001B[33m'\u001B[39m\u001B[33m loaded from \u001B[39m\u001B[33m'\u001B[39m\u001B[38;5;132;01m{\u001B[39;00mfilepath\u001B[38;5;132;01m}\u001B[39;00m\u001B[33m'\u001B[39m\u001B[33m.\u001B[39m\u001B[33m\"\u001B[39m)\n",
      "\u001B[36mFile \u001B[39m\u001B[32m~\\PycharmProjects\\gwrefpy\\src\\gwrefpy\\io\\io.py:80\u001B[39m, in \u001B[36mload\u001B[39m\u001B[34m(filename)\u001B[39m\n\u001B[32m     78\u001B[39m     \u001B[38;5;28;01melse\u001B[39;00m:\n\u001B[32m     79\u001B[39m         logger.error(\u001B[33mf\u001B[39m\u001B[33m\"\u001B[39m\u001B[33mThe file \u001B[39m\u001B[38;5;132;01m{\u001B[39;00mfilename\u001B[38;5;132;01m}\u001B[39;00m\u001B[33m does not exist.\u001B[39m\u001B[33m\"\u001B[39m)\n\u001B[32m---> \u001B[39m\u001B[32m80\u001B[39m         \u001B[38;5;28;01mraise\u001B[39;00m \u001B[38;5;167;01mFileNotFoundError\u001B[39;00m(\u001B[33mf\u001B[39m\u001B[33m\"\u001B[39m\u001B[33mThe file \u001B[39m\u001B[38;5;132;01m{\u001B[39;00mfilename\u001B[38;5;132;01m}\u001B[39;00m\u001B[33m does not exist.\u001B[39m\u001B[33m\"\u001B[39m)\n\u001B[32m     82\u001B[39m \u001B[38;5;28;01mwith\u001B[39;00m \u001B[38;5;28mopen\u001B[39m(filename) \u001B[38;5;28;01mas\u001B[39;00m file:\n\u001B[32m     83\u001B[39m     data = json.load(file)\n",
      "\u001B[31mFileNotFoundError\u001B[39m: The file logging_example_model.gwref does not exist."
     ]
    }
   ],
   "execution_count": 12
  },
  {
   "metadata": {},
   "cell_type": "markdown",
   "source": "",
   "id": "4f372c7324113741"
  }
 ],
 "metadata": {
  "kernelspec": {
   "display_name": "Python 3",
   "language": "python",
   "name": "python3"
  },
  "language_info": {
   "codemirror_mode": {
    "name": "ipython",
    "version": 2
   },
   "file_extension": ".py",
   "mimetype": "text/x-python",
   "name": "python",
   "nbconvert_exporter": "python",
   "pygments_lexer": "ipython2",
   "version": "2.7.6"
  }
 },
 "nbformat": 4,
 "nbformat_minor": 5
}
