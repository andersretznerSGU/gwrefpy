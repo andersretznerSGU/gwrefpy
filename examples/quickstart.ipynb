{
 "cells": [
  {
   "cell_type": "markdown",
   "id": "bf2fc188",
   "metadata": {},
   "source": [
    "# Quickstart – gwrefpy <img src=\"https://github.com/user-attachments/assets/4763ec7a-c703-414f-ba81-1520793f5f8d\" alt=\"gwrefpy\" width=\"200\" height=\"200\" style=\"float: right; margin-left: px;\" />\n",
    "\n",
    "This quick introductory example demonstrates how to use `gwrefpy` to analyze an observation and a reference well, calibrate a model, save the project, and then reload and visualize the results.\n",
    "\n",
    "We will go step by step:\n",
    "1. Store the data in `Well` objects  \n",
    "2. Build a `Model` and run calibration  \n",
    "3. Save the project and reload it  \n",
    "4. Plot the results  \n"
   ]
  },
  {
   "cell_type": "code",
   "execution_count": null,
   "id": "3f994a83",
   "metadata": {},
   "outputs": [],
   "source": [
    "\n",
    "import logging\n",
    "import numpy as np\n",
    "import pandas as pd\n",
    "from matplotlib import pyplot as plt\n",
    "from matplotlib import dates\n",
    "\n",
    "from gwrefpy import Model, Well\n",
    "\n",
    "logger = logging.getLogger(__name__)\n",
    "logging.basicConfig(level=logging.WARNING)"
   ]
  },
  {
   "cell_type": "markdown",
   "id": "ade4f728",
   "metadata": {},
   "source": [
    "## 1. Import groundwater level measurements \n",
    "Importing groundwaterlevel for a reference well and a observationswell as csv files and creates panda series."
   ]
  },
  {
   "cell_type": "code",
   "execution_count": null,
   "id": "81df7fcb",
   "metadata": {},
   "outputs": [],
   "source": [
    "# Loading observation well data\n",
    "obs_df = pd.read_csv(os.path.join(os.getcwd(), \"examples/data/OBS_qst.csv\"), parse_dates=[\"date\"])\n",
    "obs_series = pd.Series(obs_df[\"groundwaterlevel_m_a_s_l\"].astype(float).values, index=obs_df[\"date\"])\n",
    "\n",
    "# Loading reference well data\n",
    "ref_df = pd.read_csv(\"examples/data/REF_qst.csv\", parse_dates=[\"date\"])\n",
    "ref_series = pd.Series(ref_df[\"groundwaterlevel_m_a_s_l\"].astype(float).values, index=ref_df[\"date\"])\n"
   ]
  },
  {
   "cell_type": "markdown",
   "id": "d3bd325e",
   "metadata": {},
   "source": [
    "## 2. Create well objects 💧\n",
    "\n",
    "We now add our time series to `Well` objects.  The following boolean condition marks if the well is reference or observation. \n",
    "- `is_reference=False` for the observation well  \n",
    "- `is_reference=True` for the reference well  "
   ]
  },
  {
   "cell_type": "code",
   "execution_count": null,
   "id": "bdcdc7fd",
   "metadata": {},
   "outputs": [],
   "source": [
    "\n",
    "\n",
    "\n",
    "\n",
    "obs = Well(name=\"Obs_well\", is_reference=False)\n",
    "obs.add_timeseries(obs.series)\n",
    "\n",
    "ref = Well(name=\"Ref_well\", is_reference=True)\n",
    "ref.add_timeseries(ref.series)"
   ]
  },
  {
   "cell_type": "markdown",
   "id": "c8bd3acc",
   "metadata": {},
   "source": [
    "## 3. Build a model and calibrate ⚙️\n",
    "\n",
    "We create a `Model` and add both the reference well and the observation well.\n",
    "Then we choose a calibration period – here we just use the whole time series.\n",
    "The `model.fit` function takes the observation well (`obs`), the reference well (`ref`), the (`time_equivalent`), and the start and end dates of the calibration period. It checks how well the reference well values match the observation well values. "
   ]
  },
  {
   "cell_type": "code",
   "execution_count": null,
   "id": "2f26a9e8",
   "metadata": {},
   "outputs": [],
   "source": [
    "model = Model(name=\"Quickstart_model\")\n",
    "model.add_well(obs)\n",
    "model.add_well(ref)\n",
    "\n",
    "calibration_period_start = dates[0]\n",
    "calibration_period_end = dates[-1]\n",
    "\n",
    "model.fit(\n",
    "    obs,\n",
    "    ref,\n",
    "    time_equivalent=\"0D\",\n",
    "    tmin=calibration_period_start,\n",
    "    tmax=calibration_period_end,\n",
    ")"
   ]
  },
  {
   "cell_type": "markdown",
   "id": "9470068f",
   "metadata": {},
   "source": [
    "## 4. Save and reload the project 💾\n",
    "\n",
    "We save the model to a `.gwref` file and reload it again.  \n",
    "This illustrates how projects can be shared and reused."
   ]
  },
  {
   "cell_type": "code",
   "execution_count": null,
   "id": "702818d6",
   "metadata": {},
   "outputs": [],
   "source": [
    "project_path = \"examples/quickstart_model\"\n",
    "model.save_project(project_path, overwrite=True)\n",
    "\n",
    "# simulate a fresh session\n",
    "del model, obs, ref\n",
    "\n",
    "model_loaded = Model(\"quickstart_model_loaded\")\n",
    "model_loaded.open_project(f\"{project_path}.gwref\")"
   ]
  },
  {
   "cell_type": "markdown",
   "id": "8300e6da",
   "metadata": {},
   "source": [
    "## 5. Plot the results 📈\n",
    "\n",
    "Finally, we plot the calibrated model using the built-in plotting functionality."
   ]
  },
  {
   "cell_type": "code",
   "execution_count": null,
   "id": "6ed71fd2",
   "metadata": {},
   "outputs": [],
   "source": [
    "model_loaded.plot(plot_style=\"fancy\", color_style=\"monochrome\")\n",
    "plt.show()\n"
   ]
  }
 ],
 "metadata": {
  "kernelspec": {
   "display_name": ".venv",
   "language": "python",
   "name": "python3"
  },
  "language_info": {
   "codemirror_mode": {
    "name": "ipython",
    "version": 3
   },
   "file_extension": ".py",
   "mimetype": "text/x-python",
   "name": "python",
   "nbconvert_exporter": "python",
   "pygments_lexer": "ipython3",
   "version": "3.13.2"
  }
 },
 "nbformat": 4,
 "nbformat_minor": 5
}
