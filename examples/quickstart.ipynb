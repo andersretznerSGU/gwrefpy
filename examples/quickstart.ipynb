{
 "cells": [
  {
   "cell_type": "markdown",
   "id": "bf2fc188",
   "metadata": {},
   "source": [
    "# Quickstart – gwrefpy\n",
    "\n",
    "This example demonstrates how to use `gwrefpy` to analyze an observation and a reference well, calibrate a model, save the project, and then reload and visualize the results.\n",
    "\n",
    "We will go step by step:\n",
    "1. Store the data in `Well` objects  \n",
    "2. Build a `Model` and run calibration  \n",
    "3. Save the project and reload it  \n",
    "4. Plot the results  \n"
   ]
  },
  {
   "cell_type": "code",
   "execution_count": null,
   "id": "3f994a83",
   "metadata": {
    "vscode": {
     "languageId": "plaintext"
    }
   },
   "outputs": [],
   "source": [
    "import logging\n",
    "import numpy as np\n",
    "import pandas as pd\n",
    "from matplotlib import pyplot as plt\n",
    "\n",
    "from gwrefpy import Model, Well\n",
    "\n",
    "logger = logging.getLogger(__name__)\n",
    "logging.basicConfig(level=logging.WARNING)"
   ]
  },
  {
   "cell_type": "markdown",
   "id": "ade4f728",
   "metadata": {},
   "source": [
    "## 1. Import groundwaterlevel measurements \n",
    "Importing groundwaterlevel for a reference well and a observationswell as csv files and creates panda series."
   ]
  },
  {
   "cell_type": "code",
   "execution_count": null,
   "id": "81df7fcb",
   "metadata": {
    "vscode": {
     "languageId": "plaintext"
    }
   },
   "outputs": [],
   "source": [
    "# Loading observation well data\n",
    "obs_df = pd.read_csv(\"examples/data/obs_well.csv\", parse_dates=[\"date\"])\n",
    "obs_series = pd.Series(obs_df[\"value\"].astype(float).values, index=obs_df[\"date\"])\n",
    "\n",
    "# Loading reference well data\n",
    "ref_df = pd.read_csv(\"examples/data/ref_well.csv\", parse_dates=[\"date\"])\n",
    "ref_series = pd.Series(ref_df[\"value\"].astype(float).values, index=ref_df[\"date\"])\n"
   ]
  },
  {
   "cell_type": "markdown",
   "id": "d3bd325e",
   "metadata": {},
   "source": [
    "## 2. Create well objects\n",
    "\n",
    "We now add our time series to `Well` objects.  \n",
    "- `is_reference=False` for the observation well  \n",
    "- `is_reference=True` for the reference well  "
   ]
  },
  {
   "cell_type": "code",
   "execution_count": null,
   "id": "bdcdc7fd",
   "metadata": {
    "vscode": {
     "languageId": "plaintext"
    }
   },
   "outputs": [],
   "source": [
    "\n",
    "obs = Well(name=\"12GIPGW\", is_reference=False)\n",
    "obs.add_timeseries(pd.Series(values_obs, index=dates))\n",
    "\n",
    "ref = Well(name=\"45LOGW\", is_reference=True)\n",
    "ref.add_timeseries(pd.Series(values_ref, index=dates))"
   ]
  },
  {
   "cell_type": "markdown",
   "id": "c8bd3acc",
   "metadata": {},
   "source": [
    "## 3. Build a model and calibrate\n",
    "\n",
    "We create a `Model`, add both wells, and run calibration over the selected time window."
   ]
  },
  {
   "cell_type": "code",
   "execution_count": null,
   "id": "2f26a9e8",
   "metadata": {
    "vscode": {
     "languageId": "plaintext"
    }
   },
   "outputs": [],
   "source": [
    "model = Model(name=\"Strandangers\")\n",
    "model.add_well(obs)\n",
    "model.add_well(ref)\n",
    "\n",
    "calibration_period_start = dates[0]\n",
    "calibration_period_end = dates[-1]\n",
    "\n",
    "model.fit(\n",
    "    obs,\n",
    "    ref,\n",
    "    time_equivalent=\"0D\",\n",
    "    tmin=calibration_period_start,\n",
    "    tmax=calibration_period_end,\n",
    ")"
   ]
  },
  {
   "cell_type": "markdown",
   "id": "9470068f",
   "metadata": {},
   "source": [
    "## 4. Save and reload the project\n",
    "\n",
    "We save the model to a `.gwref` file and reload it again.  \n",
    "This shows how projects can be shared and reused."
   ]
  },
  {
   "cell_type": "code",
   "execution_count": null,
   "id": "702818d6",
   "metadata": {
    "vscode": {
     "languageId": "plaintext"
    }
   },
   "outputs": [],
   "source": [
    "project_path = \"examples/strandangers_project\"\n",
    "model.save_project(project_path, overwrite=True)\n",
    "\n",
    "# simulate a fresh session\n",
    "del model, obs, ref\n",
    "\n",
    "model_loaded = Model(\"Strandangers loaded\")\n",
    "model_loaded.open_project(f\"{project_path}.gwref\")"
   ]
  },
  {
   "cell_type": "markdown",
   "id": "8300e6da",
   "metadata": {},
   "source": [
    "## 5. Plot the results\n",
    "\n",
    "Finally, we plot the calibrated model using the built-in plotting functionality."
   ]
  },
  {
   "cell_type": "code",
   "execution_count": null,
   "id": "6ed71fd2",
   "metadata": {
    "vscode": {
     "languageId": "plaintext"
    }
   },
   "outputs": [],
   "source": [
    "model_loaded.plot(plot_style=\"fancy\", color_style=\"monochrome\")\n",
    "plt.show()\n"
   ]
  }
 ],
 "metadata": {
  "language_info": {
   "name": "python"
  }
 },
 "nbformat": 4,
 "nbformat_minor": 5
}
